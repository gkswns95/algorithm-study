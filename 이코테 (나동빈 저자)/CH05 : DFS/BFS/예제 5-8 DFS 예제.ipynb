{
 "cells": [
  {
   "cell_type": "code",
   "execution_count": null,
   "metadata": {},
   "outputs": [],
   "source": [
    "def dfs(graph, v, visited):\n",
    "    visited[v] = True # 방문한 노드 기록\n",
    "    print(v, end=' ')\n",
    "\n",
    "    for i in graph[v]: # 인접 노드 순차 방문\n",
    "        if not visited[i]: # 방문하지 않았다면\n",
    "            dfs(graph, i, visited) # 재귀 호출해서 dfs 수행\n",
    "\n",
    "graph = [[],\n",
    "         [2, 3, 8],\n",
    "         [1, 7],\n",
    "         [1, 4, 5],\n",
    "         [3, 5],\n",
    "         [3, 4],\n",
    "         [7],\n",
    "         [2, 6, 8],\n",
    "         [1, 7]]\n",
    "visited = [False] * len(graph)\n",
    "\n",
    "dfs(graph, 1, visited)"
   ]
  }
 ],
 "metadata": {
  "language_info": {
   "name": "python"
  }
 },
 "nbformat": 4,
 "nbformat_minor": 2
}
