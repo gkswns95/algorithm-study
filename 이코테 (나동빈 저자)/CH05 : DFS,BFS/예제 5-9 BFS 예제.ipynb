{
 "cells": [
  {
   "cell_type": "code",
   "execution_count": 1,
   "metadata": {},
   "outputs": [
    {
     "name": "stdout",
     "output_type": "stream",
     "text": [
      "1 2 3 8 7 4 5 6 "
     ]
    }
   ],
   "source": [
    "from collections import deque\n",
    "\n",
    "def bfs(graph, v, visited):\n",
    "\n",
    "    queue = deque([v])\n",
    "    visited[v] = True\n",
    "\n",
    "    while queue: # 큐가 비어질 때까지 반복\n",
    "        v = queue.popleft()\n",
    "        print(v, end=' ')\n",
    "        for i in graph[v]: # 인접 노드 순차 방문\n",
    "            if not visited[i]: # 방문하지 않았다면\n",
    "                queue.append(i)\n",
    "                visited[i] = True\n",
    "\n",
    "graph = [[],\n",
    "         [2, 3, 8],\n",
    "         [1, 7],\n",
    "         [1, 4, 5],\n",
    "         [3, 5],\n",
    "         [3, 4],\n",
    "         [7],\n",
    "         [2, 6, 8],\n",
    "         [1, 7]]\n",
    "visited = [False] * len(graph)\n",
    "\n",
    "\n",
    "bfs(graph, 1, visited)"
   ]
  }
 ],
 "metadata": {
  "kernelspec": {
   "display_name": "choi",
   "language": "python",
   "name": "python3"
  },
  "language_info": {
   "codemirror_mode": {
    "name": "ipython",
    "version": 3
   },
   "file_extension": ".py",
   "mimetype": "text/x-python",
   "name": "python",
   "nbconvert_exporter": "python",
   "pygments_lexer": "ipython3",
   "version": "3.8.18"
  }
 },
 "nbformat": 4,
 "nbformat_minor": 2
}
