{
 "cells": [
  {
   "cell_type": "code",
   "execution_count": null,
   "metadata": {},
   "outputs": [],
   "source": [
    "row, col = map(int, input().split())\n",
    "\n",
    "graph = []\n",
    "for i in range(row):\n",
    "    graph.append(list(map(int, input())))\n",
    "\n",
    "def dfs(x, y):    \n",
    "    # 탐색 범위 : 상,하,좌,우\n",
    "    # 탐색 조건 : 방문하지 않았을 때 (== graph의 값이 0일때!!)\n",
    "    # 종료 조건 : x,y 좌표가 범위를 벗어났을 때!\n",
    "\n",
    "    if x <= -1 or x >= col or y <= -1 or y >= row:\n",
    "        return False\n",
    "\n",
    "    if graph[x][y] == 0:\n",
    "        graph[x][y] = 1 # 현재 위치 방문하고 탐색 범위 재귀적으로 방문\n",
    "        dfs(x, y+1)\n",
    "        dfs(x, y-1)\n",
    "        dfs(x+1, y)\n",
    "        dfs(x-1, y)\n",
    "\n",
    "        return True\n",
    "    return False\n",
    "\n",
    "count = 0\n",
    "for i in range(row):\n",
    "    for j in range(col):\n",
    "        if dfs(i, j):\n",
    "            count += 1\n",
    "print(count)"
   ]
  }
 ],
 "metadata": {
  "language_info": {
   "name": "python"
  }
 },
 "nbformat": 4,
 "nbformat_minor": 2
}
