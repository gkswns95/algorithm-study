{
 "cells": [
  {
   "cell_type": "code",
   "execution_count": 11,
   "metadata": {},
   "outputs": [],
   "source": [
    "# 내 풀이 : 제한시간 30분 중 27분 소요.. 너무 느렸다 ㅠ\n",
    "\n",
    "# 공백으로 구분하여 입력 받기\n",
    "n, m, k = map(int, input().split()) \n",
    "data = list(map(int, input().split()))\n",
    "\n",
    "data.sort()\n",
    "\n",
    "top1 = data[n-1]\n",
    "top2 = data[n-2]\n",
    "\n",
    "use_top1 = False # top1 썻는지\n",
    "ret = 0\n",
    "while m > 0:\n",
    "    k = k if k <= m else m # 가능한 k 확인\n",
    "\n",
    "    if not use_top1: # 직전에 top1 사용하지 않았을 때\n",
    "        ret += top1 * k \n",
    "        m -= k\n",
    "        use_top1 = True\n",
    "    else:\n",
    "        if top1 == top2:\n",
    "            ret += top2 * k\n",
    "            m -= k\n",
    "        else:\n",
    "            ret += top2\n",
    "            m -= 1\n",
    "        use_top1 = False\n",
    "\n",
    "print(ret)"
   ]
  },
  {
   "cell_type": "code",
   "execution_count": 14,
   "metadata": {},
   "outputs": [
    {
     "name": "stdout",
     "output_type": "stream",
     "text": [
      "46\n"
     ]
    }
   ],
   "source": [
    "# 예제 풀이\n",
    "\n",
    "# 공백으로 구분하여 입력 받기\n",
    "n, m, k = map(int, input().split()) \n",
    "data = list(map(int, input().split()))\n",
    "\n",
    "data.sort()\n",
    "first = data[n-1]\n",
    "second = data[n-2]\n",
    "\n",
    "result = 0\n",
    "\n",
    "while True:\n",
    "    for i in range(k): # 가장 큰 수를 k번 더하기\n",
    "        if m == 0: # m이 0이되면 탈출 \n",
    "            break\n",
    "        result += first\n",
    "        m -= 1 # 더할때마다 1씩 빼기\n",
    "    if m == 0: # m이 0이라면 반복문 탈출\n",
    "        break\n",
    "    result += second # 두 번째로 큰 수를 한 번 더하기\n",
    "    m -= 1 # 더할 때마다 1씩 빼기\n",
    "\n",
    "print(result)"
   ]
  },
  {
   "cell_type": "code",
   "execution_count": 15,
   "metadata": {},
   "outputs": [
    {
     "name": "stdout",
     "output_type": "stream",
     "text": [
      "46\n"
     ]
    }
   ],
   "source": [
    "# 내 풀이 최적화\n",
    "# 1. 반복되는 코드 한 조건문으로 묶기\n",
    "\n",
    "# 공백으로 구분하여 입력 받기\n",
    "n, m, k = map(int, input().split()) \n",
    "data = list(map(int, input().split()))\n",
    "\n",
    "data.sort()\n",
    "\n",
    "top1 = data[n-1]\n",
    "top2 = data[n-2]\n",
    "\n",
    "use_top1 = False # top1 썻는지\n",
    "ret = 0\n",
    "while m > 0:\n",
    "    k = k if k <= m else m # 가능한 k 확인\n",
    "\n",
    "    if not use_top1 or top1 == top2: # 직전에 top1 사용하지 않았을 때\n",
    "        ret += top1 * k \n",
    "        m -= k\n",
    "        use_top1 = True\n",
    "    elif use_top1:\n",
    "        ret += top2\n",
    "        m -= 1\n",
    "        use_top1 = False\n",
    "\n",
    "print(ret)"
   ]
  },
  {
   "cell_type": "code",
   "execution_count": 19,
   "metadata": {},
   "outputs": [
    {
     "name": "stdout",
     "output_type": "stream",
     "text": [
      "46\n"
     ]
    }
   ],
   "source": [
    "# M이 충분히 클 때를 대비한 코드\n",
    "\n",
    "# 공백으로 구분하여 입력 받기\n",
    "n, m, k = map(int, input().split()) \n",
    "data = list(map(int, input().split()))\n",
    "\n",
    "data.sort()\n",
    "\n",
    "first = data[n-1]\n",
    "second = data[n-2]\n",
    "\n",
    "# 1. 가장 큰 수가 더해지는 횟수 계산\n",
    "count = int(m / (k + 1)) * k\n",
    "count += m % (k + 1)\n",
    "\n",
    "result = 0\n",
    "result += (count) * first # 가장 큰 수 더하기\n",
    "result += (m - count) * second # 두 번째로 큰 수 더하기\n",
    "\n",
    "print(result)"
   ]
  }
 ],
 "metadata": {
  "kernelspec": {
   "display_name": "choi",
   "language": "python",
   "name": "python3"
  },
  "language_info": {
   "codemirror_mode": {
    "name": "ipython",
    "version": 3
   },
   "file_extension": ".py",
   "mimetype": "text/x-python",
   "name": "python",
   "nbconvert_exporter": "python",
   "pygments_lexer": "ipython3",
   "version": "3.8.18"
  }
 },
 "nbformat": 4,
 "nbformat_minor": 2
}
