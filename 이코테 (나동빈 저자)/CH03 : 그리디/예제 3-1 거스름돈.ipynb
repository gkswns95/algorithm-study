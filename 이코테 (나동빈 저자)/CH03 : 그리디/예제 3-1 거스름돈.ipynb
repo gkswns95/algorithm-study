{
 "cells": [
  {
   "cell_type": "code",
   "execution_count": 29,
   "metadata": {},
   "outputs": [
    {
     "name": "stdout",
     "output_type": "stream",
     "text": [
      "6\n"
     ]
    }
   ],
   "source": [
    "# 내 풀이 : 가장 단위가 큰 동전부터 차례대로 카운트업하기\n",
    "N, c = 1260, 0\n",
    "\n",
    "coins = [500, 100, 50, 10]\n",
    "for coin in coins:\n",
    "    if N >= coin: # 거스름돈이 동전보다 같거나 비싼지 확인\n",
    "        c += N // coin # 동전 카운트업!\n",
    "        N -= (N // coin) * coin # 거스름돈 업데이트\n",
    "print(c)"
   ]
  },
  {
   "cell_type": "code",
   "execution_count": 26,
   "metadata": {},
   "outputs": [
    {
     "name": "stdout",
     "output_type": "stream",
     "text": [
      "6\n"
     ]
    }
   ],
   "source": [
    "# 예제 코드\n",
    "n = 1260\n",
    "count = 0\n",
    "\n",
    "# 큰 단위의 화폐부터 차례대로 확인\n",
    "coin_types = [500, 100, 50, 10]\n",
    "\n",
    "for coin in coin_types:\n",
    "    count += n // coin\n",
    "    n %= coin\n",
    "\n",
    "print(count)"
   ]
  },
  {
   "cell_type": "code",
   "execution_count": 31,
   "metadata": {},
   "outputs": [
    {
     "name": "stdout",
     "output_type": "stream",
     "text": [
      "6\n"
     ]
    }
   ],
   "source": [
    "# 내 풀이 최적화 : \n",
    "# 1.필요없는 조건문 삭제\n",
    "# 2.거스름돈 업데이트 나머지 연산으로 수정해서 간결한 코드 작성\n",
    "N, c = 1260, 0\n",
    "\n",
    "coins = [500, 100, 50, 10]\n",
    "for coin in coins:\n",
    "    c += N // coin # 동전 카운트업!\n",
    "    N %= coin\n",
    "print(c)"
   ]
  }
 ],
 "metadata": {
  "kernelspec": {
   "display_name": "choi",
   "language": "python",
   "name": "python3"
  },
  "language_info": {
   "codemirror_mode": {
    "name": "ipython",
    "version": 3
   },
   "file_extension": ".py",
   "mimetype": "text/x-python",
   "name": "python",
   "nbconvert_exporter": "python",
   "pygments_lexer": "ipython3",
   "version": "3.8.18"
  }
 },
 "nbformat": 4,
 "nbformat_minor": 2
}
